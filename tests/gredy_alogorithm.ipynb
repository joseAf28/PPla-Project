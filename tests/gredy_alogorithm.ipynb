{
 "cells": [
  {
   "cell_type": "code",
   "execution_count": 1,
   "metadata": {},
   "outputs": [
    {
     "name": "stdout",
     "output_type": "stream",
     "text": [
      "Task 3 assigned to Machine 0 at start time 0\n",
      "Task 1 assigned to Machine 1 at start time 0\n",
      "Task 0 assigned to Machine 2 at start time 0\n",
      "Task 2 assigned to Machine 2 at start time 3\n",
      "Task 4 assigned to Machine 1 at start time 4\n"
     ]
    }
   ],
   "source": [
    "import heapq\n",
    "\n",
    "def fill_gaps_greedily(tasks, num_machines, availability):\n",
    "    \"\"\"\n",
    "    Greedily fills the gaps in the timetable with tasks to balance machine loads.\n",
    "\n",
    "    Args:\n",
    "        tasks (list of int): Durations of each task.\n",
    "        num_machines (int): Number of machines.\n",
    "        availability (list of list of tuples): Availability slots for each machine as [(start, end), ...].\n",
    "\n",
    "    Returns:\n",
    "        dict: Task assignments with machine and start times.\n",
    "    \"\"\"\n",
    "    # Step 1: Sort tasks by duration in descending order\n",
    "    sorted_tasks = sorted(enumerate(tasks), key=lambda x: x[1], reverse=True)\n",
    "    \n",
    "    # Step 2: Priority queue to keep track of machine loads (min-heap)\n",
    "    machine_loads = [(0, machine_id) for machine_id in range(num_machines)]\n",
    "    heapq.heapify(machine_loads)\n",
    "    \n",
    "    # Step 3: Track task assignments and machine availability usage\n",
    "    task_assignments = {}  # (task_id) -> (machine_id, start_time)\n",
    "    updated_availability = {m: sorted(availability[m], key=lambda x: x[0]) for m in range(num_machines)}\n",
    "    \n",
    "    # Step 4: Assign tasks to the least loaded machine iteratively\n",
    "    for task_id, task_duration in sorted_tasks:\n",
    "        # Find the least loaded machine\n",
    "        current_load, machine_id = heapq.heappop(machine_loads)\n",
    "        \n",
    "        # Step 5: Try to fit the task into the earliest available slot for this machine\n",
    "        for i, (slot_start, slot_end) in enumerate(updated_availability[machine_id]):\n",
    "            if slot_end - slot_start >= task_duration:\n",
    "                task_start = slot_start\n",
    "                task_end = task_start + task_duration\n",
    "                \n",
    "                # Assign the task\n",
    "                task_assignments[task_id] = (machine_id, task_start)\n",
    "                \n",
    "                # Update the availability slot (split the slot)\n",
    "                updated_availability[machine_id][i] = (task_end, slot_end)\n",
    "                \n",
    "                # Sort the updated availability\n",
    "                updated_availability[machine_id] = sorted(updated_availability[machine_id], key=lambda x: x[0])\n",
    "                \n",
    "                # Add the task duration to the machine's load\n",
    "                current_load += task_duration\n",
    "                \n",
    "                # Push the updated load back to the heap\n",
    "                heapq.heappush(machine_loads, (current_load, machine_id))\n",
    "                \n",
    "                # Break the loop as we have assigned the current task\n",
    "                break\n",
    "        else:\n",
    "            # If no slot found, put the machine back to the heap with unchanged load\n",
    "            heapq.heappush(machine_loads, (current_load, machine_id))\n",
    "            print(f\"No suitable slot found for task {task_id} on machine {machine_id}.\")\n",
    "\n",
    "    return task_assignments\n",
    "\n",
    "\n",
    "# Example usage:\n",
    "tasks = [3, 4, 2, 5, 1]  # Task durations\n",
    "num_machines = 3  # Number of machines\n",
    "availability = [\n",
    "    [(0, 10)],  # Machine 1 available from 0 to 10\n",
    "    [(0, 10)],  # Machine 2 available from 0 to 10\n",
    "    [(0, 10)],  # Machine 3 available from 0 to 10\n",
    "]\n",
    "\n",
    "assignments = fill_gaps_greedily(tasks, num_machines, availability)\n",
    "if assignments:\n",
    "    for task, (machine, start) in assignments.items():\n",
    "        print(f\"Task {task} assigned to Machine {machine} at start time {start}\")\n"
   ]
  },
  {
   "cell_type": "code",
   "execution_count": null,
   "metadata": {},
   "outputs": [],
   "source": [
    "## start by filling the gaps in the timetable with tasks to balance machine loads - priority\n",
    "## level of the makespan"
   ]
  }
 ],
 "metadata": {
  "kernelspec": {
   "display_name": "Python 3",
   "language": "python",
   "name": "python3"
  },
  "language_info": {
   "codemirror_mode": {
    "name": "ipython",
    "version": 3
   },
   "file_extension": ".py",
   "mimetype": "text/x-python",
   "name": "python",
   "nbconvert_exporter": "python",
   "pygments_lexer": "ipython3",
   "version": "3.11.6"
  }
 },
 "nbformat": 4,
 "nbformat_minor": 2
}
