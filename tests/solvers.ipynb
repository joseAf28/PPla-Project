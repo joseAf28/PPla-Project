{
 "cells": [
  {
   "cell_type": "code",
   "execution_count": 1,
   "metadata": {},
   "outputs": [
    {
     "ename": "LookupError",
     "evalue": "No solver id or tag 'gecode' found, available options: ['api', 'cbc', 'coin-bc', 'coinbc', 'cplex', 'float', 'gurobi', 'highs', 'mip', 'org.minizinc.mip.coin-bc', 'org.minizinc.mip.cplex', 'org.minizinc.mip.gurobi', 'org.minizinc.mip.highs', 'org.minizinc.mip.scip', 'org.minizinc.mip.xpress', 'osicbc', 'scip', 'xpress']",
     "output_type": "error",
     "traceback": [
      "\u001b[0;31m---------------------------------------------------------------------------\u001b[0m",
      "\u001b[0;31mLookupError\u001b[0m                               Traceback (most recent call last)",
      "\u001b[1;32m/Users/joseafonso/Desktop/PPla/project/solvers.ipynb Cell 1\u001b[0m line \u001b[0;36m6\n\u001b[1;32m      <a href='vscode-notebook-cell:/Users/joseafonso/Desktop/PPla/project/solvers.ipynb#W0sZmlsZQ%3D%3D?line=3'>4</a>\u001b[0m nqueens \u001b[39m=\u001b[39m Model(\u001b[39m\"\u001b[39m\u001b[39m./nqueens.mzn\u001b[39m\u001b[39m\"\u001b[39m)\n\u001b[1;32m      <a href='vscode-notebook-cell:/Users/joseafonso/Desktop/PPla/project/solvers.ipynb#W0sZmlsZQ%3D%3D?line=4'>5</a>\u001b[0m \u001b[39m# Find the MiniZinc solver configuration for Gecode\u001b[39;00m\n\u001b[0;32m----> <a href='vscode-notebook-cell:/Users/joseafonso/Desktop/PPla/project/solvers.ipynb#W0sZmlsZQ%3D%3D?line=5'>6</a>\u001b[0m gecode \u001b[39m=\u001b[39m Solver\u001b[39m.\u001b[39;49mlookup(\u001b[39m\"\u001b[39;49m\u001b[39mgecode\u001b[39;49m\u001b[39m\"\u001b[39;49m)\n\u001b[1;32m      <a href='vscode-notebook-cell:/Users/joseafonso/Desktop/PPla/project/solvers.ipynb#W0sZmlsZQ%3D%3D?line=6'>7</a>\u001b[0m \u001b[39m# Create an Instance of the n-Queens model for Gecode\u001b[39;00m\n\u001b[1;32m      <a href='vscode-notebook-cell:/Users/joseafonso/Desktop/PPla/project/solvers.ipynb#W0sZmlsZQ%3D%3D?line=7'>8</a>\u001b[0m instance \u001b[39m=\u001b[39m Instance(gecode, nqueens)\n",
      "File \u001b[0;32m/opt/homebrew/lib/python3.11/site-packages/minizinc/solver.py:140\u001b[0m, in \u001b[0;36mSolver.lookup\u001b[0;34m(cls, tag, driver, refresh)\u001b[0m\n\u001b[1;32m    137\u001b[0m tag_map \u001b[39m=\u001b[39m driver\u001b[39m.\u001b[39mavailable_solvers(refresh)\n\u001b[1;32m    139\u001b[0m \u001b[39mif\u001b[39;00m tag \u001b[39mnot\u001b[39;00m \u001b[39min\u001b[39;00m tag_map \u001b[39mor\u001b[39;00m \u001b[39mlen\u001b[39m(tag_map[tag]) \u001b[39m<\u001b[39m \u001b[39m1\u001b[39m:\n\u001b[0;32m--> 140\u001b[0m     \u001b[39mraise\u001b[39;00m \u001b[39mLookupError\u001b[39;00m(\n\u001b[1;32m    141\u001b[0m         \u001b[39mf\u001b[39m\u001b[39m\"\u001b[39m\u001b[39mNo solver id or tag \u001b[39m\u001b[39m'\u001b[39m\u001b[39m{\u001b[39;00mtag\u001b[39m}\u001b[39;00m\u001b[39m'\u001b[39m\u001b[39m found, available options: \u001b[39m\u001b[39m\"\u001b[39m\n\u001b[1;32m    142\u001b[0m         \u001b[39mf\u001b[39m\u001b[39m\"\u001b[39m\u001b[39m{\u001b[39;00m\u001b[39msorted\u001b[39m(tag_map\u001b[39m.\u001b[39mkeys())\u001b[39m}\u001b[39;00m\u001b[39m\"\u001b[39m\n\u001b[1;32m    143\u001b[0m     )\n\u001b[1;32m    145\u001b[0m \u001b[39mreturn\u001b[39;00m tag_map[tag][\u001b[39m0\u001b[39m]\n",
      "\u001b[0;31mLookupError\u001b[0m: No solver id or tag 'gecode' found, available options: ['api', 'cbc', 'coin-bc', 'coinbc', 'cplex', 'float', 'gurobi', 'highs', 'mip', 'org.minizinc.mip.coin-bc', 'org.minizinc.mip.cplex', 'org.minizinc.mip.gurobi', 'org.minizinc.mip.highs', 'org.minizinc.mip.scip', 'org.minizinc.mip.xpress', 'osicbc', 'scip', 'xpress']"
     ]
    }
   ],
   "source": [
    "from minizinc import Instance, Model, Solver\n",
    "\n",
    "# Load n-Queens model from file\n",
    "nqueens = Model(\"./nqueens.mzn\")\n",
    "# Find the MiniZinc solver configuration for Gecode\n",
    "gecode = Solver.lookup(\"gecode\")\n",
    "# Create an Instance of the n-Queens model for Gecode\n",
    "instance = Instance(gecode, nqueens)\n",
    "# Assign 4 to n\n",
    "instance[\"n\"] = 4\n",
    "result = instance.solve()\n",
    "# Output the array q\n",
    "print(result[\"q\"])"
   ]
  },
  {
   "cell_type": "code",
   "execution_count": null,
   "metadata": {},
   "outputs": [],
   "source": []
  }
 ],
 "metadata": {
  "kernelspec": {
   "display_name": "Python 3",
   "language": "python",
   "name": "python3"
  },
  "language_info": {
   "codemirror_mode": {
    "name": "ipython",
    "version": 3
   },
   "file_extension": ".py",
   "mimetype": "text/x-python",
   "name": "python",
   "nbconvert_exporter": "python",
   "pygments_lexer": "ipython3",
   "version": "3.11.6"
  }
 },
 "nbformat": 4,
 "nbformat_minor": 2
}
