{
 "cells": [
  {
   "cell_type": "code",
   "execution_count": 41,
   "metadata": {},
   "outputs": [],
   "source": [
    "import minizinc\n",
    "import re"
   ]
  },
  {
   "cell_type": "code",
   "execution_count": 12,
   "metadata": {},
   "outputs": [],
   "source": [
    "filename = \"dataInputTest.dzn\""
   ]
  },
  {
   "cell_type": "code",
   "execution_count": 13,
   "metadata": {},
   "outputs": [],
   "source": [
    "with open(filename) as file:\n",
    "    lines = [line.rstrip() for line in file]"
   ]
  },
  {
   "cell_type": "code",
   "execution_count": 14,
   "metadata": {},
   "outputs": [
    {
     "name": "stdout",
     "output_type": "stream",
     "text": [
      "['% Number of tests : 10', '% Number of machines : 3', '% Number of resources : 1', '% Maximum makespan : 15', \"test( 't1', 2, [], [])\", \"test( 't2', 4, [], ['r1'])\", \"test( 't3', 3, [], ['r1'])\", \"test( 't4', 4, [], ['r1'])\", \"test( 't5', 3, [], [])\", \"test( 't6', 2, [], [])\", \"test( 't7', 1, ['m1'], [])\", \"test( 't8', 2, ['m2'], [])\", \"test( 't9', 3, ['m3'], [])\", \"test( 't10', 5, ['m1','m2','m3'], [])\"]\n"
     ]
    }
   ],
   "source": [
    "print(lines)"
   ]
  },
  {
   "cell_type": "code",
   "execution_count": 15,
   "metadata": {},
   "outputs": [
    {
     "name": "stdout",
     "output_type": "stream",
     "text": [
      "% Number of tests : 10\n"
     ]
    }
   ],
   "source": [
    "print(lines[0])"
   ]
  },
  {
   "cell_type": "code",
   "execution_count": 29,
   "metadata": {},
   "outputs": [],
   "source": [
    "commented_data = []\n",
    "test_data = [] \n",
    "\n",
    "for line in lines:\n",
    "    if line.startswith(\"%\"):\n",
    "        commented_data.append(line)\n",
    "    elif line.startswith('test('):\n",
    "        test_data.append(line)\n",
    "    else:\n",
    "        print(\"Error: data not in correct format\")"
   ]
  },
  {
   "cell_type": "code",
   "execution_count": 24,
   "metadata": {},
   "outputs": [
    {
     "name": "stdout",
     "output_type": "stream",
     "text": [
      "[10, 3, 1, 15]\n"
     ]
    }
   ],
   "source": [
    "## manipulate commented data\n",
    "commented_values = [int(commented_data[i].split(\" \")[-1]) for i in range(len(commented_data))]\n",
    "print(commented_values)"
   ]
  },
  {
   "cell_type": "code",
   "execution_count": 69,
   "metadata": {},
   "outputs": [],
   "source": [
    "## get test date\n",
    "\n",
    "word = test_data[-1]"
   ]
  },
  {
   "cell_type": "code",
   "execution_count": 76,
   "metadata": {},
   "outputs": [
    {
     "data": {
      "text/plain": [
       "[\"test( 't10', 5, ['m1','m2','m3'], [])\"]"
      ]
     },
     "execution_count": 76,
     "metadata": {},
     "output_type": "execute_result"
    }
   ],
   "source": [
    "new_word = re.split(r'(test)(\\d+)', word)\n",
    "new_word"
   ]
  },
  {
   "cell_type": "code",
   "execution_count": 77,
   "metadata": {},
   "outputs": [
    {
     "name": "stdout",
     "output_type": "stream",
     "text": [
      "ID: '>Keratyna 5', DESCRIPTION: 'egzon 2, Homo sapiens'\n",
      "ID: '>101m_A', DESCRIPTION: 'mol:protein length:154  MYOGLOBIN'\n"
     ]
    }
   ],
   "source": [
    "import re\n",
    "pattern = re.compile( r'^((?=.*,)[^,]+|\\S+)[\\s,]+(.*)' )\n",
    "texts = [\">Keratyna 5, egzon 2, Homo sapiens\", \">101m_A mol:protein length:154  MYOGLOBIN\"]\n",
    "for text in texts:\n",
    "    m = pattern.search(text)\n",
    "    if m:\n",
    "        id, description = m.groups()\n",
    "        print(f\"ID: '{id}', DESCRIPTION: '{description}'\")"
   ]
  },
  {
   "cell_type": "code",
   "execution_count": 181,
   "metadata": {},
   "outputs": [
    {
     "name": "stdout",
     "output_type": "stream",
     "text": [
      "['t1', 2, [], []]\n"
     ]
    }
   ],
   "source": [
    "import re\n",
    "\n",
    "# The input string\n",
    "input_string = \"test( 't10', 5, ['m1','m2','m3', 'm4', 'm5'], ['r1', 'r3'])\"\n",
    "# input_string = \"test( 't4', 4, [], ['r1'])\"\n",
    "input_string = \"test( 't1', 2, [], [])\"\n",
    "# Regex pattern to capture arguments inside the parentheses, allowing for nested lists and different data types\n",
    "pattern = r\"\\s*'([^']*)'\\s*|\\s*(\\d+)\\s*|\\[([^\\]]*)\\]\"\n",
    "## elements 'tn' or number or [ elements ] \n",
    "\n",
    "# Find all matches\n",
    "matches = re.findall(pattern, input_string)\n",
    "\n",
    "# Organizing the matches to get the arguments in the desired format\n",
    "arguments = []\n",
    "for match in matches:\n",
    "    if match[0]:  # It's a string argument\n",
    "        arguments.append(match[0])\n",
    "    elif match[1]:  # It's an integer argument\n",
    "        arguments.append(int(match[1]))\n",
    "    elif match[2]:  # It's a list argument\n",
    "        list_items = [item.strip().strip(\"'\") for item in match[2].split(\",\")]\n",
    "        arguments.append(list_items)\n",
    "    else:\n",
    "        arguments.append([])\n",
    "        \n",
    "        \n",
    "        \n",
    "\n",
    "# Display the extracted arguments\n",
    "print(arguments)\n"
   ]
  },
  {
   "cell_type": "code",
   "execution_count": 158,
   "metadata": {},
   "outputs": [
    {
     "data": {
      "text/plain": [
       "['5', '5', '5', '5']"
      ]
     },
     "execution_count": 158,
     "metadata": {},
     "output_type": "execute_result"
    }
   ],
   "source": [
    "durations = [matches[1][1] for i in range(len(matches))]\n",
    "durations"
   ]
  },
  {
   "cell_type": "code",
   "execution_count": 159,
   "metadata": {},
   "outputs": [
    {
     "name": "stdout",
     "output_type": "stream",
     "text": [
      "[('t10', '', ''), ('', '5', ''), ('', '', \"'m1','m2','m3'\"), ('', '', \"'r1'\")]\n"
     ]
    }
   ],
   "source": [
    "print(matches)"
   ]
  },
  {
   "cell_type": "code",
   "execution_count": 168,
   "metadata": {},
   "outputs": [
    {
     "name": "stdout",
     "output_type": "stream",
     "text": [
      "[]\n"
     ]
    }
   ],
   "source": [
    "non_machines = []\n",
    "\n",
    "try:\n",
    "    non_machines = [item.strip().strip(\"'\") for item in matches[2].split(\",\")]\n",
    "except:\n",
    "    pass\n",
    "    \n",
    "print(non_machines)"
   ]
  },
  {
   "cell_type": "code",
   "execution_count": 163,
   "metadata": {},
   "outputs": [],
   "source": [
    "try:\n",
    "    print(matches[2].split(\",\"))\n",
    "except:\n",
    "    pass"
   ]
  },
  {
   "cell_type": "code",
   "execution_count": 140,
   "metadata": {},
   "outputs": [
    {
     "ename": "SyntaxError",
     "evalue": "expected ':' (883441597.py, line 10)",
     "output_type": "error",
     "traceback": [
      "\u001b[0;36m  Cell \u001b[0;32mIn[140], line 10\u001b[0;36m\u001b[0m\n\u001b[0;31m    try  match[i]:  # It's a list argument\u001b[0m\n\u001b[0m         ^\u001b[0m\n\u001b[0;31mSyntaxError\u001b[0m\u001b[0;31m:\u001b[0m expected ':'\n"
     ]
    }
   ],
   "source": [
    "arguments2 = []\n",
    "\n",
    "for match,i in zip(matches,range(len(matches))):\n",
    "    print(match[2].split(\",\"))\n",
    "    if i == 0:  # It's a string argument\n",
    "        arguments2.append(match[0])\n",
    "    elif i == 1:  # It's an integer argument\n",
    "        arguments2.append(int(match[1]))\n",
    "    elif i == 2:\n",
    "        try  match[i]  # It's a list argument\n",
    "            list_items = [item.strip().strip(\"'\") for item in match[i].split(\",\")]\n",
    "        except: \n",
    "            list_items = ['']\n",
    "        arguments2.append(list_items)\n",
    "    # elif i == 3:\n",
    "    #     if  match[i]:\n",
    "    #         list_items = [item.strip().strip(\"'\") for item in match[i].split(\",\")]\n",
    "    #     else:\n",
    "    #         list_items = ['']\n",
    "    #     arguments2.append(list_items)\n",
    "    else:\n",
    "        pass"
   ]
  },
  {
   "cell_type": "code",
   "execution_count": 135,
   "metadata": {},
   "outputs": [
    {
     "name": "stdout",
     "output_type": "stream",
     "text": [
      "['t4', 4, ['']]\n"
     ]
    }
   ],
   "source": [
    "print(arguments2)"
   ]
  },
  {
   "cell_type": "code",
   "execution_count": null,
   "metadata": {},
   "outputs": [],
   "source": []
  }
 ],
 "metadata": {
  "kernelspec": {
   "display_name": "Python 3",
   "language": "python",
   "name": "python3"
  },
  "language_info": {
   "codemirror_mode": {
    "name": "ipython",
    "version": 3
   },
   "file_extension": ".py",
   "mimetype": "text/x-python",
   "name": "python",
   "nbconvert_exporter": "python",
   "pygments_lexer": "ipython3",
   "version": "3.11.6"
  }
 },
 "nbformat": 4,
 "nbformat_minor": 2
}
